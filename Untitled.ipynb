{
 "cells": [
  {
   "cell_type": "code",
   "execution_count": 15,
   "metadata": {
    "collapsed": true
   },
   "outputs": [],
   "source": [
    "import requests\n",
    "\n",
    "from selenium import webdriver\n",
    "from selenium.webdriver.common.keys import Keys\n",
    "\n",
    "def get_dir_res():\n",
    "    url = 'https://www.wisc.edu/directories/'\n",
    "\n",
    "    driver = webdriver.Firefox()\n",
    "\n",
    "    wp = driver.get(url)\n",
    "\n",
    "    main_el = driver.find_element_by_id('main')\n",
    "\n",
    "    element = main_el.find_element_by_name('q')\n",
    "\n",
    "\n",
    "\n",
    "    element.click()\n",
    "\n",
    "    element.send_keys('Arnav Sharma ')\n",
    "\n",
    "    people = main_el.find_element_by_id('people')\n",
    "    for i in range(3):\n",
    "        try:\n",
    "            emails = people.find_elements_by_class_name('person_email')\n",
    "            e = [email.text for email in emails]\n",
    "        except:\n",
    "            continue\n",
    "    \n",
    "    return e\n",
    "\n"
   ]
  },
  {
   "cell_type": "code",
   "execution_count": 16,
   "metadata": {},
   "outputs": [
    {
     "data": {
      "text/plain": [
       "['sharma55@wisc.edu']"
      ]
     },
     "execution_count": 16,
     "metadata": {},
     "output_type": "execute_result"
    }
   ],
   "source": [
    "get_dir_res()"
   ]
  },
  {
   "cell_type": "code",
   "execution_count": null,
   "metadata": {
    "collapsed": true
   },
   "outputs": [],
   "source": []
  },
  {
   "cell_type": "code",
   "execution_count": null,
   "metadata": {
    "collapsed": true
   },
   "outputs": [],
   "source": []
  }
 ],
 "metadata": {
  "kernelspec": {
   "display_name": "Python 3",
   "language": "python",
   "name": "python3"
  },
  "language_info": {
   "codemirror_mode": {
    "name": "ipython",
    "version": 3
   },
   "file_extension": ".py",
   "mimetype": "text/x-python",
   "name": "python",
   "nbconvert_exporter": "python",
   "pygments_lexer": "ipython3",
   "version": "3.6.1"
  }
 },
 "nbformat": 4,
 "nbformat_minor": 2
}
